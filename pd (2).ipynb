{
 "cells": [
  {
   "cell_type": "markdown",
   "id": "2698a585-17bb-486d-83e2-51231ec24bcf",
   "metadata": {},
   "source": [
    "Consider following code to answer further questions:\n",
    "import pandas as pd\n",
    "course_name = [‘Data Science’, ‘Machine Learning’, ‘Big Data’, ‘Data Engineer’]\n",
    "duration = [2,3,6,4]\n",
    "df = pd.DataFrame(data = {‘course_name’ : course_name, ‘duration’ : duration})"
   ]
  },
  {
   "cell_type": "markdown",
   "id": "fd7bd5c4-7a2e-4e6d-9101-9febe0ed2756",
   "metadata": {},
   "source": [
    "1.Write a code to print the data present in the second row of the dataframe, df."
   ]
  },
  {
   "cell_type": "code",
   "execution_count": null,
   "id": "0be16b05-b259-41f6-bddd-146361a26503",
   "metadata": {},
   "outputs": [],
   "source": [
    "import pandas as pd\n",
    "\n",
    "# Given DataFrame\n",
    "course_name = ['Data Science', 'Machine Learning', 'Big Data', 'Data Engineer']\n",
    "duration = [2, 3, 6, 4]\n",
    "df = pd.DataFrame(data={'course_name': course_name, 'duration': duration})\n",
    "\n",
    "# Print data present in the second row\n",
    "second_row_data = df.iloc[1]\n",
    "print(second_row_data)\n"
   ]
  },
  {
   "cell_type": "markdown",
   "id": "b4673edc-8eb0-444b-bf6b-8d6c8881e24b",
   "metadata": {},
   "source": [
    "Q2. What is the difference between the functions loc and iloc in pandas.DataFrame?\n",
    "Ans:-loc:\r",
    "\r\n",
    "loc is label-based indexing, meaning that you use the labels of rows or columns to access data.\r\n",
    "It is primarily used when you want to select data by labels or conditions based on the values in the DataFrame.\r\n",
    "The syntax for loc is df.loc[row_label, column_lab\n",
    "\n",
    "iloc:\n",
    "\r\n",
    "iloc is integer-location based indexing, meaning that you use integer indices to access data.\r\n",
    "It is used when you want to select data based on integer positions or slices.\r\n",
    "The syntax for iloc is df.iloc[row_index, column_index].el]."
   ]
  },
  {
   "cell_type": "markdown",
   "id": "d4f75e3d-89bc-48b8-af95-6f93d25dd134",
   "metadata": {},
   "source": [
    "Q3. Reindex the given dataframe using a variable, reindex = [3,0,1,2] and store it in the variable, new_df\n",
    "then find the output for both new_df.loc[2] and new_df.iloc[2]."
   ]
  },
  {
   "cell_type": "code",
   "execution_count": null,
   "id": "7be36c89-9921-475c-9e24-8d045e03ba4b",
   "metadata": {},
   "outputs": [],
   "source": [
    "import pandas as pd\n",
    "\n",
    "# Given DataFrame\n",
    "course_name = ['Data Science', 'Machine Learning', 'Big Data', 'Data Engineer']\n",
    "duration = [2, 3, 6, 4]\n",
    "df = pd.DataFrame(data={'course_name': course_name, 'duration': duration})\n",
    "\n",
    "# Reindexing\n",
    "reindex = [3, 0, 1, 2]\n",
    "new_df = df.reindex(reindex)\n",
    "\n",
    "# Output for new_df.loc[2]\n",
    "output_loc = new_df.loc[2]\n",
    "print(\"Output for new_df.loc[2]:\\n\", output_loc)\n",
    "\n",
    "# Output for new_df.iloc[2]\n",
    "output_iloc = new_df.iloc[2]\n",
    "print(\"\\nOutput for new_df.iloc[2]:\\n\", output_iloc)\n"
   ]
  },
  {
   "cell_type": "markdown",
   "id": "d915d55e-a506-48c9-914f-41805e6d8d56",
   "metadata": {},
   "source": [
    "Q4. Write a code to find the following statistical measurements for the above dataframe df1:\n",
    "(i) mean of each and every column present in the dataframe.\n",
    "(ii) standard deviation of column, ‘column_2’\n"
   ]
  },
  {
   "cell_type": "code",
   "execution_count": null,
   "id": "b94760ad-44dc-40d0-83d6-320a4f4a0e3b",
   "metadata": {},
   "outputs": [],
   "source": [
    "import pandas as pd\n",
    "import numpy as np\n",
    "\n",
    "# Creating a DataFrame\n",
    "columns = ['column_1', 'column_2', 'column_3', 'column_4', 'column_5', 'column_6']\n",
    "indices = [1, 2, 3, 4, 5, 6]\n",
    "df1 = pd.DataFrame(np.random.rand(6, 6), columns=columns, index=indices)\n",
    "\n",
    "# (i) Mean of each and every column present in the dataframe\n",
    "mean_per_column = df1.mean()\n",
    "print(\"(i) Mean of each and every column:\\n\", mean_per_column)\n",
    "\n",
    "# (ii) Standard deviation of column 'column_2'\n",
    "std_dev_column_2 = df1['column_2'].std()\n",
    "print(\"\\n(ii) Standard deviation of 'column_2':\", std_dev_column_2)\n"
   ]
  },
  {
   "cell_type": "markdown",
   "id": "17b947df-a03b-44af-b60d-93972cd39ddc",
   "metadata": {},
   "source": [
    "Q5. Replace the data present in the second row of column, ‘column_2’ by a string variable then find the\n",
    "mean of column, column_2."
   ]
  },
  {
   "cell_type": "code",
   "execution_count": null,
   "id": "c6a64e8e-0034-46bb-8360-ef9e7da8c1ad",
   "metadata": {},
   "outputs": [],
   "source": [
    "import pandas as pd\n",
    "import numpy as np\n",
    "\n",
    "# Creating a DataFrame\n",
    "columns = ['column_1', 'column_2', 'column_3', 'column_4', 'column_5', 'column_6']\n",
    "indices = [1, 2, 3, 4, 5, 6]\n",
    "df1 = pd.DataFrame(np.random.rand(6, 6), columns=columns, index=indices)\n",
    "\n",
    "# Display the original DataFrame\n",
    "print(\"Original DataFrame:\")\n",
    "print(df1)\n",
    "\n",
    "# Replace the data in the second row of 'column_2' with a string variable\n",
    "string_variable = 'Replaced_String'\n",
    "df1.at[2, 'column_2'] = string_variable\n",
    "\n",
    "# Display the DataFrame after replacement\n",
    "print(\"\\nDataFrame after replacing data in 'column_2':\")\n",
    "print(df1)\n",
    "\n",
    "# Find the mean of 'column_2'\n",
    "mean_column_2 = df1['column_2'].mean()\n",
    "print(\"\\nMean of 'column_2' after replacement:\", mean_column_2)\n"
   ]
  },
  {
   "cell_type": "markdown",
   "id": "bbaba2c5-ebac-435a-9b6e-759c3d437b81",
   "metadata": {},
   "source": [
    "Q6. What do you understand about the windows function in pandas and list the types of windows\n",
    "functions?"
   ]
  },
  {
   "cell_type": "markdown",
   "id": "4fc5fda5-3fc2-4896-a0c4-b161a1afe90e",
   "metadata": {},
   "source": [
    "Ans:-In pandas, a window function is a computation applied to a specified subset of data called a \"window.\" This subset of data is defined by a window specification, typically involving a specified range of rows relative to the current row. Window functions are used in conjunction with the groupby operation and are especially useful for performing calculations on rolling or expanding windows of data.\n",
    "\n",
    "Types of window functions in pandas include:\n",
    "\n",
    "Rolling Functions:\n",
    "\n",
    "rolling(): Provides rolling view of data, allowing for calculations over a specified window size.\n",
    "mean(), sum(), min(), max(): Calculate the mean, sum, minimum, or maximum within the rolling window, respectively.\n",
    "Expanding Functions:\n",
    "\n",
    "expanding(): Provides an expanding view of data, allowing for calculations on all data up to the current point.\n",
    "mean(), sum(), min(), max(): Calculate the mean, sum, minimum, or maximum of all data up to the current point, respectively."
   ]
  },
  {
   "cell_type": "markdown",
   "id": "b3b43dc9-5cae-4b25-95f8-e6bf0eddb913",
   "metadata": {},
   "source": [
    "Q7. Write a code to print only the current month and year at the time of answering this question."
   ]
  },
  {
   "cell_type": "code",
   "execution_count": null,
   "id": "36c99795-a3e1-4d1b-8b03-b51f061caf81",
   "metadata": {},
   "outputs": [],
   "source": [
    "from datetime import datetime\n",
    "\n",
    "# Get the current date\n",
    "current_date = datetime.now()\n",
    "\n",
    "# Extract and print the current month and year\n",
    "current_month = current_date.strftime(\"%B\")\n",
    "current_year = current_date.strftime(\"%Y\")\n",
    "\n",
    "print(f\"Current Month: {current_month}\")\n",
    "print(f\"Current Year: {current_year}\")\n"
   ]
  },
  {
   "cell_type": "markdown",
   "id": "3d7a4da2-5169-4c49-9e3f-8af8a83e0305",
   "metadata": {},
   "source": [
    "Q8. Write a Python program that takes in two dates as input (in the format YYYY-MM-DD) and\n",
    "calculates the difference between them in days, hours, and minutes using Pandas time delta. The\n",
    "program should prompt the user to enter the dates and display the result.\n"
   ]
  },
  {
   "cell_type": "code",
   "execution_count": null,
   "id": "2a916c15-522e-4e48-9e1a-5ebb99985c2d",
   "metadata": {},
   "outputs": [],
   "source": [
    "import pandas as pd\n",
    "\n",
    "# Function to calculate the time difference\n",
    "def calculate_time_difference(date1, date2):\n",
    "    # Convert input strings to datetime objects\n",
    "    date1 = pd.to_datetime(date1)\n",
    "    date2 = pd.to_datetime(date2)\n",
    "\n",
    "    # Calculate the time difference\n",
    "    time_difference = date2 - date1\n",
    "\n",
    "    # Extract days, hours, and minutes\n",
    "    days = time_difference.days\n",
    "    hours, remainder = divmod(time_difference.seconds, 3600)\n",
    "    minutes, _ = divmod(remainder, 60)\n",
    "\n",
    "    return days, hours, minutes\n",
    "\n",
    "# Get user input for two dates\n",
    "date1_input = input(\"Enter the first date (YYYY-MM-DD): \")\n",
    "date2_input = input(\"Enter the second date (YYYY-MM-DD): \")\n",
    "\n",
    "try:\n",
    "    # Calculate and display the time difference\n",
    "    days_diff, hours_diff, minutes_diff = calculate_time_difference(date1_input, date2_input)\n",
    "    print(f\"Time Difference: {days_diff} days, {hours_diff} hours, {minutes_diff} minutes\")\n",
    "\n",
    "except ValueError as e:\n",
    "    print(f\"Error: {e}. Please enter dates in the correct format (YYYY-MM-DD).\")\n"
   ]
  },
  {
   "cell_type": "markdown",
   "id": "45793892-110e-468d-9abb-3c015ccee5fd",
   "metadata": {},
   "source": [
    "Q9. Write a Python program that reads a CSV file containing categorical data and converts a specified\n",
    "column to a categorical data type. The program should prompt the user to enter the file path, column\n",
    "name, and category order, and then display the sorted data."
   ]
  },
  {
   "cell_type": "code",
   "execution_count": null,
   "id": "1b08be21-f50d-4272-a0fb-6524ddca969c",
   "metadata": {},
   "outputs": [],
   "source": [
    "import pandas as pd\n",
    "\n",
    "# Function to convert a specified column to categorical data type\n",
    "def convert_to_categorical(file_path, column_name, category_order):\n",
    "    try:\n",
    "        # Read the CSV file into a DataFrame\n",
    "        df = pd.read_csv(file_path)\n",
    "\n",
    "        # Convert the specified column to categorical with the provided category order\n",
    "        df[column_name] = pd.Categorical(df[column_name], categories=category_order, ordered=True)\n",
    "\n",
    "        # Display the sorted data\n",
    "        sorted_data = df.sort_values(by=[column_name])\n",
    "        print(\"Sorted Data:\")\n",
    "        print(sorted_data)\n",
    "\n",
    "    except FileNotFoundError:\n",
    "        print(f\"Error: File not found at path {file_path}. Please check the file path.\")\n",
    "    except KeyError:\n",
    "        print(f\"Error: Column {column_name} not found in the CSV file. Please check the column name.\")\n",
    "\n",
    "# Get user input for file path, column name, and category order\n",
    "file_path_input = input(\"Enter the CSV file path: \")\n",
    "column_name_input = input(\"Enter the column name to convert to categorical: \")\n",
    "category_order_input = input(\"Enter the category order (comma-separated): \").split(',')\n",
    "\n",
    "# Call the function with user inputs\n",
    "convert_to_categorical(file_path_input, column_name_input, category_order_input)\n"
   ]
  },
  {
   "cell_type": "markdown",
   "id": "a636c245-5931-4e79-8415-b249d38dea46",
   "metadata": {},
   "source": [
    "Q10. Write a Python program that reads a CSV file containing sales data for different products and\n",
    "visualizes the data using a stacked bar chart to show the sales of each product category over time. The\n",
    "program should prompt the user to enter the file path and display the chart."
   ]
  },
  {
   "cell_type": "code",
   "execution_count": null,
   "id": "a7e49db5-c798-4de2-a75e-eba8bacc9d8a",
   "metadata": {},
   "outputs": [],
   "source": [
    "import pandas as pd\n",
    "import matplotlib.pyplot as plt\n",
    "\n",
    "# Function to visualize sales data using a stacked bar chart\n",
    "def visualize_sales(file_path):\n",
    "    try:\n",
    "        # Read the CSV file into a DataFrame\n",
    "        df = pd.read_csv(file_path)\n",
    "\n",
    "        # Assuming the DataFrame has columns 'Date', 'Category', and 'Sales'\n",
    "        # If your CSV structure is different, please adjust the column names accordingly\n",
    "\n",
    "        # Convert the 'Date' column to datetime format\n",
    "        df['Date'] = pd.to_datetime(df['Date'])\n",
    "\n",
    "        # Pivot the DataFrame to create a suitable structure for a stacked bar chart\n",
    "        pivot_df = df.pivot(index='Date', columns='Category', values='Sales').fillna(0)\n",
    "\n",
    "        # Create a stacked bar chart\n",
    "        pivot_df.plot(kind='bar', stacked=True, figsize=(10, 6))\n",
    "        \n",
    "        # Set labels and title\n",
    "        plt.xlabel('Date')\n",
    "        plt.ylabel('Sales')\n",
    "        plt.title('Stacked Bar Chart of Sales Over Time')\n",
    "\n",
    "        # Show the chart\n",
    "        plt.show()\n",
    "\n",
    "    except FileNotFoundError:\n",
    "        print(f\"Error: File not found at path {file_path}. Please check the file path.\")\n",
    "    except KeyError:\n",
    "        print(\"Error: Required columns 'Date', 'Category', and 'Sales' not found in the CSV file.\")\n",
    "\n",
    "# Get user input for the file path\n",
    "file_path_input = input(\"Enter the CSV file path: \")\n",
    "\n",
    "# Call the function with user input\n",
    "visualize_sales(file_path_input)\n"
   ]
  },
  {
   "cell_type": "markdown",
   "id": "03bb1772-1238-4adf-bb25-af658f458814",
   "metadata": {},
   "source": [
    "Q11. You are given a CSV file containing student data that includes the student ID and their test score. Write\n",
    "a Python program that reads the CSV file, calculates the mean, median, and mode of the test scores, and\n",
    "displays the results in a table.\n",
    "The program should do the followingM\n",
    "I Prompt the user to enter the file path of the CSV file containing the student dataR\n",
    "I Read the CSV file into a Pandas DataFrameR\n",
    "I Calculate the mean, median, and mode of the test scores using Pandas toolsR\n",
    "I Display the mean, median, and mode in a table."
   ]
  },
  {
   "cell_type": "code",
   "execution_count": null,
   "id": "d993f788-d041-416f-9664-f87b606a841a",
   "metadata": {},
   "outputs": [],
   "source": [
    "import pandas as pd\n",
    "\n",
    "# Function to calculate mean, median, and mode of test scores and display the results\n",
    "def analyze_student_data(file_path):\n",
    "    try:\n",
    "        # Read the CSV file into a DataFrame\n",
    "        df = pd.read_csv(file_path)\n",
    "\n",
    "        # Assuming the DataFrame has columns 'Student ID' and 'Test Score'\n",
    "        # If your CSV structure is different, please adjust the column names accordingly\n",
    "\n",
    "        # Calculate mean, median, and mode of the 'Test Score' column\n",
    "        mean_score = df['Test Score'].mean()\n",
    "        median_score = df['Test Score'].median()\n",
    "        mode_score = df['Test Score'].mode().to_list()  # Mode may have multiple values\n",
    "\n",
    "        # Create a DataFrame to display the results\n",
    "        result_df = pd.DataFrame({\n",
    "            'Statistic': ['Mean', 'Median', 'Mode'],\n",
    "            'Value': [mean_score, median_score, ', '.join(map(str, mode_score))]\n",
    "        })\n",
    "\n",
    "        # Display the results table\n",
    "        print(result_df)\n",
    "\n",
    "    except FileNotFoundError:\n",
    "        print(f\"Error: File not found at path {file_path}. Please check the file path.\")\n",
    "    except KeyError:\n",
    "        print(\"Error: Required columns 'Student ID' and 'Test Score' not found in the CSV file.\")\n",
    "\n",
    "# Example usage\n",
    "file_path_input = input(\"Enter the file path of the CSV file containing student data: \")\n",
    "analyze_student_data(file_path_input)\n",
    "\n"
   ]
  }
 ],
 "metadata": {
  "kernelspec": {
   "display_name": "Python 3 (ipykernel)",
   "language": "python",
   "name": "python3"
  },
  "language_info": {
   "codemirror_mode": {
    "name": "ipython",
    "version": 3
   },
   "file_extension": ".py",
   "mimetype": "text/x-python",
   "name": "python",
   "nbconvert_exporter": "python",
   "pygments_lexer": "ipython3",
   "version": "3.12.0"
  }
 },
 "nbformat": 4,
 "nbformat_minor": 5
}
